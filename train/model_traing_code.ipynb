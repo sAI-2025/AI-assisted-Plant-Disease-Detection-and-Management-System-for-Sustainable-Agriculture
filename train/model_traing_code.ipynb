{
  "nbformat": 4,
  "nbformat_minor": 0,
  "metadata": {
    "colab": {
      "provenance": []
    },
    "kernelspec": {
      "name": "python3",
      "display_name": "Python 3"
    },
    "language_info": {
      "name": "python"
    }
  },
  "cells": [
    {
      "cell_type": "code",
      "execution_count": null,
      "metadata": {
        "id": "cDB62XxYJUBZ"
      },
      "outputs": [],
      "source": [
        "!pip install torch torchvision torchaudio torchtext torchvision.transforms\n",
        "!git clone https://github.com/ultralytics/yolov5.git\n",
        "%cd yolov5\n",
        "!pip install -r requirements.txt"
      ]
    },
    {
      "cell_type": "code",
      "source": [
        "!python train.py --data plant_disease_dataset.yaml --cfg models/yolov5s.yaml --weights yolov5s.pt --batch 16"
      ],
      "metadata": {
        "id": "GGp7MmnKJXyh"
      },
      "execution_count": null,
      "outputs": []
    },
    {
      "cell_type": "code",
      "source": [
        "!python val.py --data plant_disease_dataset.yaml --cfg models/yolov5s.yaml --weights runs/train/exp/weights/best.pt --batch 16"
      ],
      "metadata": {
        "id": "NWQn5UAyJpRa"
      },
      "execution_count": null,
      "outputs": []
    },
    {
      "cell_type": "code",
      "source": [
        "!python detect.py --weights runs/train/exp/weights/best.pt --source /content/plant_disease_dataset/images/img1.jpg"
      ],
      "metadata": {
        "id": "bqil4it8Jqss"
      },
      "execution_count": null,
      "outputs": []
    }
  ]
}